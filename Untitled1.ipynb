{
 "cells": [
  {
   "cell_type": "code",
   "execution_count": 40,
   "metadata": {},
   "outputs": [],
   "source": [
    "def test(sort):\n",
    "    test_cases = {\n",
    "        tuple(): [[]],\n",
    "        (1,): [[1]],\n",
    "        (1, 2): [[1, 2], [2, 1]],\n",
    "        (2, 2): [[2, 2]],\n",
    "        (1, 2, 2, 3, 3): [[2, 2, 3, 3, 1], [3, 2, 1, 3, 2]]\n",
    "    }\n",
    "    for sorted_xs, unsorted_xss in test_cases.items():\n",
    "        for unsorted_xs in unsorted_xss:\n",
    "            should_be_sorted_xs = sort(unsorted_xs)\n",
    "            print(should_be_sorted_xs, list(sorted_xs))\n",
    "            assert should_be_sorted_xs == list(sorted_xs)"
   ]
  },
  {
   "cell_type": "code",
   "execution_count": 42,
   "metadata": {},
   "outputs": [
    {
     "name": "stdout",
     "output_type": "stream",
     "text": [
      "[] []\n",
      "[1] [1]\n",
      "[1, 2] [1, 2]\n",
      "[1, 2] [1, 2]\n",
      "[2, 2] [2, 2]\n",
      "[1, 2, 2, 3, 3] [1, 2, 2, 3, 3]\n",
      "[1, 2, 2, 3, 3] [1, 2, 2, 3, 3]\n"
     ]
    }
   ],
   "source": [
    "def choose_pivot(xs):\n",
    "    return  len(xs) // 2\n",
    "\n",
    "def quicksort(xs):\n",
    "    \"\"\"\n",
    "    1. choose pivot\n",
    "    2. makes sublists of <, >, = to pivot\n",
    "    3. sort < and >\n",
    "    4. concat <, =, >\n",
    "    \n",
    "    \"\"\"\n",
    "    if len(xs) <= 1:\n",
    "        return xs\n",
    "    pivot_i = choose_pivot(xs)\n",
    "    pivot = xs[pivot_i]\n",
    "    \n",
    "    left, pivots, right = [], [], []\n",
    "    for x in xs:\n",
    "        if x < pivot:\n",
    "            left.append(x)\n",
    "        elif x == pivot:\n",
    "            pivots.append(x)\n",
    "        else:\n",
    "            right.append(x)\n",
    "    left, right = quicksort(left), quicksort(right)\n",
    "    left.extend(pivots)\n",
    "    left.extend(right)\n",
    "    return left\n",
    "\n",
    "test(quicksort)"
   ]
  },
  {
   "cell_type": "code",
   "execution_count": 54,
   "metadata": {},
   "outputs": [
    {
     "name": "stdout",
     "output_type": "stream",
     "text": [
      "[] []\n",
      "[1] [1]\n",
      "[1, 2] [1, 2]\n",
      "[1, 2] [1, 2]\n",
      "[2, 2] [2, 2]\n",
      "[1, 2, 2, 3, 3] [1, 2, 2, 3, 3]\n",
      "[1, 2, 2, 3, 3] [1, 2, 2, 3, 3]\n"
     ]
    }
   ],
   "source": [
    "def insertion_sort(xs):\n",
    "    \"\"\"\n",
    "    1. go from left to right\n",
    "    2. for each, go from that point to 0 (inclusive)\n",
    "    3. if the place is 0, or the one to the left is <= current value, place it there and stop\n",
    "    4. else, save the one to the left to the current value and proceed\n",
    "    \"\"\"\n",
    "    for i in range(len(xs)):\n",
    "        x = xs[i]\n",
    "        # j is the place we think we might want to place x\n",
    "        # it should be safe to overwrite the value at j\n",
    "        for j in range(i, -1, -1):\n",
    "            # if the one before j is <= x, then we\n",
    "            # can place x at j and stop\n",
    "            if j == 0 or xs[j - 1] <= x:\n",
    "                xs[j] = x\n",
    "                break\n",
    "            # otherwise, setup up the next j for being written over\n",
    "            xs[j] = xs[j - 1]\n",
    "    return xs\n",
    "\n",
    "test(insertion_sort)"
   ]
  },
  {
   "cell_type": "code",
   "execution_count": 55,
   "metadata": {},
   "outputs": [
    {
     "name": "stdout",
     "output_type": "stream",
     "text": [
      "[] []\n",
      "[1] [1]\n",
      "[1, 2] [1, 2]\n",
      "[1, 2] [1, 2]\n",
      "[2, 2] [2, 2]\n",
      "[1, 2, 2, 3, 3] [1, 2, 2, 3, 3]\n",
      "[1, 2, 2, 3, 3] [1, 2, 2, 3, 3]\n"
     ]
    }
   ],
   "source": [
    "def merge_sort(xs):\n",
    "    \"\"\"\n",
    "    1. split list into two halves\n",
    "    2. iterate through both halves at once, choosing the less value\n",
    "       and placing that in the result array\n",
    "    3. once one is exhausted add the rest of the of the other array.\n",
    "    \"\"\"\n",
    "    if len(xs) <= 1:\n",
    "        return xs\n",
    "    midpoint = len(xs) // 2\n",
    "    left, right = merge_sort(xs[:midpoint]), merge_sort(xs[midpoint:])\n",
    "    merged = []\n",
    "    i, j = 0, 0\n",
    "    while i < len(left) and j < len(right):\n",
    "        l, r = left[i], right[j]\n",
    "        if l < r:\n",
    "            merged.append(l)\n",
    "            i += 1\n",
    "        else:\n",
    "            merged.append(r)\n",
    "            j += 1\n",
    "    while i < len(left):\n",
    "        merged.append(left[i])\n",
    "        i += 1\n",
    "    while j < len(right):\n",
    "        merged.append(right[j])\n",
    "        j += 1\n",
    "    return merged\n",
    "\n",
    "test(merge_sort)"
   ]
  },
  {
   "cell_type": "code",
   "execution_count": null,
   "metadata": {},
   "outputs": [],
   "source": [
    "def heapsort(xs):\n",
    "    "
   ]
  },
  {
   "cell_type": "code",
   "execution_count": null,
   "metadata": {},
   "outputs": [],
   "source": [
    "class BST:\n",
    "    def __init__(left, right, key, value):\n",
    "        this.left = left\n",
    "        this.right = right\n",
    "        this.key = key\n",
    "        this.value = value\n",
    "    \n",
    "    def search(self, key):\n",
    "        if key == self.key:\n",
    "            return self\n",
    "        if key < self.key and self.left is not None:\n",
    "            return this.left.search(key)\n",
    "        if self.right is not None:\n",
    "            return self.right.search(key)\n",
    "    \n",
    "    def insert(self, key, value):\n",
    "        if key < self.key:\n",
    "            if self.left is None:\n",
    "                self.left = BST(None, None, key, value)\n",
    "                return self.left\n",
    "            return self.left.insert(key, value)\n",
    "        if self.right is None:\n",
    "            self.right = BST(None, None, key, value)\n",
    "            return self.right\n",
    "        return self.right.insert(key, value)\n",
    "    \n",
    "    def delete(self, key):\n",
    "        if key == self.key:\n",
    "        node = self.find(key)\n",
    "        if node is None:\n",
    "            return None\n",
    "        if node.left is None and node.right is None:\n",
    "            \n",
    "                "
   ]
  }
 ],
 "metadata": {
  "kernelspec": {
   "display_name": "Python 3",
   "language": "python",
   "name": "python3"
  },
  "language_info": {
   "codemirror_mode": {
    "name": "ipython",
    "version": 3
   },
   "file_extension": ".py",
   "mimetype": "text/x-python",
   "name": "python",
   "nbconvert_exporter": "python",
   "pygments_lexer": "ipython3",
   "version": "3.6.2"
  }
 },
 "nbformat": 4,
 "nbformat_minor": 2
}
